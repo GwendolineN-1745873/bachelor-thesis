{
 "cells": [
  {
   "cell_type": "markdown",
   "metadata": {},
   "source": [
    "### Requirements:\n",
    "- An existing folder `results`\n",
    "- An existing folder `datasets`\n",
    "- A dataset called `stray-game-14-08.csv` in directory `datasets` with at least \n",
    "  70 tweets containing a column 'text' where the tweet content is stores\n",
    "- Import necessary libraries through first code block"
   ]
  },
  {
   "cell_type": "code",
   "execution_count": 1,
   "metadata": {},
   "outputs": [
    {
     "name": "stderr",
     "output_type": "stream",
     "text": [
      "[nltk_data] Downloading package movie_reviews to /nltk_data...\n",
      "[nltk_data]   Package movie_reviews is already up-to-date!\n",
      "[nltk_data] Downloading package averaged_perceptron_tagger to\n",
      "[nltk_data]     /nltk_data...\n",
      "[nltk_data]   Package averaged_perceptron_tagger is already up-to-\n",
      "[nltk_data]       date!\n",
      "[nltk_data] Downloading package wordnet to /nltk_data...\n",
      "[nltk_data]   Package wordnet is already up-to-date!\n",
      "[nltk_data] Downloading package punkt to /nltk_data...\n",
      "[nltk_data]   Package punkt is already up-to-date!\n"
     ]
    },
    {
     "data": {
      "text/plain": [
       "True"
      ]
     },
     "execution_count": 1,
     "metadata": {},
     "output_type": "execute_result"
    }
   ],
   "source": [
    "import textblob\n",
    "from textblob import TextBlob\n",
    "from textblob.classifiers import NaiveBayesClassifier\n",
    "from textblob.sentiments import NaiveBayesAnalyzer\n",
    "import nltk\n",
    "from nltk import pos_tag\n",
    "\n",
    "\n",
    "import spacy\n",
    "from spacy.tokenizer import Tokenizer\n",
    "from spacytextblob.spacytextblob import SpacyTextBlob\n",
    "\n",
    "import re\n",
    "import pandas as pd\n",
    "\n",
    "nltk.download('movie_reviews')\n",
    "nltk.download('averaged_perceptron_tagger')\n",
    "nltk.download('wordnet')\n",
    "nltk.download('punkt')"
   ]
  },
  {
   "cell_type": "code",
   "execution_count": 2,
   "metadata": {},
   "outputs": [],
   "source": [
    "# Pre-processing: removing links and web-specific content that is not needed\n",
    "def clean_data(tweets):\n",
    "  simple_url_re = re.compile(r'''https:\\/\\/([^\\s]+)''')\n",
    "  twitter_url_re = re.compile(r'''https:\\/\\/t.co\\/[A-Za-z0-9_]+''')\n",
    "  username_prefix_re = re.compile(r'''(\\@)\\w{1,15} ?''')\n",
    "  # hashtag_re = re.compile(r'''(\\#)[A-Za-z0-9_]+''')\n",
    "\n",
    "  new_tweets = []\n",
    "  new_tweet = ''\n",
    "\n",
    "  for tweet in tweets:\n",
    "    tweet = re.sub(simple_url_re, \"\", tweet)\n",
    "    tweet = re.sub(twitter_url_re, \"\", tweet)\n",
    "    tweet = re.sub(username_prefix_re, \"\", tweet)\n",
    "    # tweet = re.sub(hashtag_re, \"\", tweet)\n",
    "    new_tweets.append(tweet)\n",
    "  return new_tweets"
   ]
  },
  {
   "cell_type": "code",
   "execution_count": 3,
   "metadata": {
    "colab": {
     "base_uri": "https://localhost:8080/"
    },
    "id": "oXjnmUnBdtIS",
    "outputId": "19094ccc-b5b7-476d-db2a-a9532d65e2b1"
   },
   "outputs": [],
   "source": [
    "# Create a list of all tweets' content from dataframe\n",
    "# tweets_content_list = tweets_df['text'].tolist()\n",
    "\n",
    "# When reading from .csv file, create dataframe from .csv column 'text' and create list\n",
    "tweets_content_list = pd.read_csv('datasets/stray-game-14-08.csv')['text'].tolist()\n",
    "tweets_content_list = clean_data(tweets_content_list)\n",
    "\n",
    "# def custom_tokenizer(nlp):\n",
    "#     return Tokenizer(nlp.vocab, url_match=simple_url_re.match)\n",
    "\n",
    "# Import tools to help with pre-processing and classification\n",
    "nlp = spacy.load(\"en_core_web_sm\")\n",
    "nlp.enable_pipe(\"parser\")\n",
    "\n",
    "nlp.add_pipe('spacytextblob')\n",
    "\n",
    "# Using Spacy's English tokenizer, PoS tagger, syntactic parser and named-entity recognition\n",
    "processed_tweets = []\n",
    "\n",
    "for tweet in tweets_content_list:\n",
    "  doc = nlp(tweet)\n",
    "  processed_tweets.append(doc)"
   ]
  },
  {
   "cell_type": "code",
   "execution_count": 4,
   "metadata": {
    "colab": {
     "base_uri": "https://localhost:8080/"
    },
    "id": "mCqrpTGXsGd_",
    "outputId": "161eb5c7-1ad2-4782-a4b1-cdfdc7357fe9"
   },
   "outputs": [
    {
     "name": "stdout",
     "output_type": "stream",
     "text": [
      "혷~ is trying out stray. looks like a pretty game \n",
      "Honestly, stray's only good at audiovisuals. Apart from that it's not a good GAME.\n"
     ]
    }
   ],
   "source": [
    "# Show some example tweets\n",
    "print(processed_tweets[6])\n",
    "print(processed_tweets[13])"
   ]
  },
  {
   "cell_type": "code",
   "execution_count": 5,
   "metadata": {
    "colab": {
     "base_uri": "https://localhost:8080/"
    },
    "id": "4mzAtno8jaFw",
    "outputId": "eff95d33-9c46-4fc2-e667-4356f2f31339"
   },
   "outputs": [
    {
     "name": "stdout",
     "output_type": "stream",
     "text": [
      "Honestly, stray's only good at audiovisuals. Apart from that it's not a good GAME.\n",
      "[(['honestly'], 0.6, 0.9, None), (['only'], 0.0, 1.0, None), (['good'], 0.7, 0.6000000000000001, None), (['not', 'good'], -0.35, 0.6000000000000001, None), (['game'], -0.4, 0.4, None)]\n"
     ]
    }
   ],
   "source": [
    "nlp = spacy.load(\"en_core_web_sm\")\n",
    "nlp.add_pipe('spacytextblob')\n",
    "\n",
    "processed_tweets = []\n",
    "\n",
    "for tweet in tweets_content_list:\n",
    "  doc = nlp(tweet)\n",
    "  processed_tweets.append(doc)\n",
    "\n",
    "print(processed_tweets[13])\n",
    "print(processed_tweets[13]._.blob.sentiment_assessments.assessments)"
   ]
  },
  {
   "cell_type": "code",
   "execution_count": 6,
   "metadata": {
    "colab": {
     "base_uri": "https://localhost:8080/",
     "height": 1000
    },
    "id": "HTxy9BantnJl",
    "outputId": "ab1d53f2-1fb7-4969-b68c-6ab7906edd90"
   },
   "outputs": [
    {
     "data": {
      "text/html": [
       "<div>\n",
       "<style scoped>\n",
       "    .dataframe tbody tr th:only-of-type {\n",
       "        vertical-align: middle;\n",
       "    }\n",
       "\n",
       "    .dataframe tbody tr th {\n",
       "        vertical-align: top;\n",
       "    }\n",
       "\n",
       "    .dataframe thead th {\n",
       "        text-align: right;\n",
       "    }\n",
       "</style>\n",
       "<table border=\"1\" class=\"dataframe\">\n",
       "  <thead>\n",
       "    <tr style=\"text-align: right;\">\n",
       "      <th></th>\n",
       "      <th>text</th>\n",
       "      <th>sentiment</th>\n",
       "    </tr>\n",
       "  </thead>\n",
       "  <tbody>\n",
       "    <tr>\n",
       "      <th>0</th>\n",
       "      <td>Platinum no. 27 goes to Stray 🐈 what a wonderful game all around, absolutely adored it ♥️ kept the speedrunning trophy for last 😄</td>\n",
       "      <td>positive</td>\n",
       "    </tr>\n",
       "    <tr>\n",
       "      <th>1</th>\n",
       "      <td>Now you can play Stray from the cat's purr-spective:</td>\n",
       "      <td>neutral</td>\n",
       "    </tr>\n",
       "    <tr>\n",
       "      <th>2</th>\n",
       "      <td>stream schedule for this week (Aug 15th to 21st)  \\n\\nmore chill this week~ catching up with chat and more singing streams! Starting a new game this week \"stray\" as well! &amp;lt;3 \\n\\nHope to see you there! \\n\\n⊹  \\n⊹ Schedule by : \\n</td>\n",
       "      <td>positive</td>\n",
       "    </tr>\n",
       "    <tr>\n",
       "      <th>3</th>\n",
       "      <td>First Game: Alphabet Park Adventure (V-Smile) or Petz Catz 2 (Wii)\\nLast Game: Stray\\nBest Game: Stray, GTA V, and Red Dead Redemption 2\\nWorst Game: Fortnite (not my cup of tea)</td>\n",
       "      <td>negative</td>\n",
       "    </tr>\n",
       "    <tr>\n",
       "      <th>4</th>\n",
       "      <td>* honestly i recall seeing this game in development before stray came out but i agree</td>\n",
       "      <td>neutral</td>\n",
       "    </tr>\n",
       "    <tr>\n",
       "      <th>...</th>\n",
       "      <td>...</td>\n",
       "      <td>...</td>\n",
       "    </tr>\n",
       "    <tr>\n",
       "      <th>95</th>\n",
       "      <td>Anybody else’s #stray game just like crash on them at some point???</td>\n",
       "      <td>negative</td>\n",
       "    </tr>\n",
       "    <tr>\n",
       "      <th>96</th>\n",
       "      <td>I love playing Stray such a relaxin game</td>\n",
       "      <td>neutral</td>\n",
       "    </tr>\n",
       "    <tr>\n",
       "      <th>97</th>\n",
       "      <td>I loved playing Stray too. I frankly think that their BlueTwelve Studio team did a great job developing it for PS4, PS5, and PC. And I will treasure it forever. It deserves a lot of replays. I love it. It's a great video game.</td>\n",
       "      <td>positive</td>\n",
       "    </tr>\n",
       "    <tr>\n",
       "      <th>98</th>\n",
       "      <td>Stray\\n\\nINCREDIBLE worldbuilding and imagery my jaw dropped like 5 times also it was really sad and i cried and also cute cat is cute i love him so much this game is great 10/10 recommend</td>\n",
       "      <td>positive</td>\n",
       "    </tr>\n",
       "    <tr>\n",
       "      <th>99</th>\n",
       "      <td>I played Stray for 25 min today and my review is:\\n1) the meowing function is VERY cute\\n2) the thing I want out of a game in which I play a stray cat is decidedly NOT mechanics where the cat can get attacked in a post-apocalyptic hellscape and die, what the fuck is wrong with you</td>\n",
       "      <td>negative</td>\n",
       "    </tr>\n",
       "  </tbody>\n",
       "</table>\n",
       "<p>100 rows × 2 columns</p>\n",
       "</div>"
      ],
      "text/plain": [
       "                                                                                                                                                                                                                                                                                         text  \\\n",
       "0                                                                                                                                                          Platinum no. 27 goes to Stray 🐈 what a wonderful game all around, absolutely adored it ♥️ kept the speedrunning trophy for last 😄    \n",
       "1                                                                                                                                                                                                                                      Now you can play Stray from the cat's purr-spective:     \n",
       "2                                                    stream schedule for this week (Aug 15th to 21st)  \\n\\nmore chill this week~ catching up with chat and more singing streams! Starting a new game this week \"stray\" as well! &lt;3 \\n\\nHope to see you there! \\n\\n⊹  \\n⊹ Schedule by : \\n    \n",
       "3                                                                                                          First Game: Alphabet Park Adventure (V-Smile) or Petz Catz 2 (Wii)\\nLast Game: Stray\\nBest Game: Stray, GTA V, and Red Dead Redemption 2\\nWorst Game: Fortnite (not my cup of tea)   \n",
       "4                                                                                                                                                                                                       * honestly i recall seeing this game in development before stray came out but i agree   \n",
       "..                                                                                                                                                                                                                                                                                        ...   \n",
       "95                                                                                                                                                                                                                        Anybody else’s #stray game just like crash on them at some point???   \n",
       "96                                                                                                                                                                                                                                                   I love playing Stray such a relaxin game   \n",
       "97                                                         I loved playing Stray too. I frankly think that their BlueTwelve Studio team did a great job developing it for PS4, PS5, and PC. And I will treasure it forever. It deserves a lot of replays. I love it. It's a great video game.   \n",
       "98                                                                                              Stray\\n\\nINCREDIBLE worldbuilding and imagery my jaw dropped like 5 times also it was really sad and i cried and also cute cat is cute i love him so much this game is great 10/10 recommend    \n",
       "99  I played Stray for 25 min today and my review is:\\n1) the meowing function is VERY cute\\n2) the thing I want out of a game in which I play a stray cat is decidedly NOT mechanics where the cat can get attacked in a post-apocalyptic hellscape and die, what the fuck is wrong with you   \n",
       "\n",
       "   sentiment  \n",
       "0   positive  \n",
       "1    neutral  \n",
       "2   positive  \n",
       "3   negative  \n",
       "4    neutral  \n",
       "..       ...  \n",
       "95  negative  \n",
       "96   neutral  \n",
       "97  positive  \n",
       "98  positive  \n",
       "99  negative  \n",
       "\n",
       "[100 rows x 2 columns]"
      ]
     },
     "execution_count": 6,
     "metadata": {},
     "output_type": "execute_result"
    }
   ],
   "source": [
    "# Classify polarity\n",
    "def classify_polarity(polarity):\n",
    "  if polarity <= -0.1:\n",
    "    return 'negative'\n",
    "  elif (polarity > -0.1 and polarity < 0.1):\n",
    "    return 'neutral'\n",
    "  elif polarity >= 0.1:\n",
    "    return 'positive'\n",
    "\n",
    "sentiment_df = pd.DataFrame()\n",
    "\n",
    "tweet_sentiment_pairs = []\n",
    "for tweet in processed_tweets:\n",
    "  sentiment = classify_polarity(tweet._.blob.polarity)\n",
    "  tweet_sentiment_pairs.append((tweet.text, sentiment))\n",
    "\n",
    "  sentiment_df = sentiment_df.append(pd.DataFrame({\n",
    "      'text': [tweet.text],\n",
    "      'sentiment': [sentiment]\n",
    "  }))\n",
    "  sentiment_df = sentiment_df.reset_index(drop=True)\n",
    "\n",
    "# sentiment_df\n",
    "pd.set_option('display.max_colwidth', None) \n",
    "sentiment_df\n"
   ]
  },
  {
   "cell_type": "code",
   "execution_count": 7,
   "metadata": {
    "id": "x2VmCcd_xkSh"
   },
   "outputs": [],
   "source": [
    "sentiment_df.to_csv('results/stray-game-sentiments.csv')"
   ]
  },
  {
   "cell_type": "code",
   "execution_count": 8,
   "metadata": {
    "colab": {
     "base_uri": "https://localhost:8080/"
    },
    "id": "wwgHF4ZBkU-I",
    "outputId": "3b0b5b75-165f-4e0d-b1ae-cd70123724e3"
   },
   "outputs": [
    {
     "name": "stdout",
     "output_type": "stream",
     "text": [
      "0.10999999999999996\n",
      "[(['honestly'], 0.6, 0.9, None), (['only'], 0.0, 1.0, None), (['good'], 0.7, 0.6000000000000001, None), (['not', 'good'], -0.35, 0.6000000000000001, None), (['game'], -0.4, 0.4, None)]\n"
     ]
    }
   ],
   "source": [
    "print(processed_tweets[13]._.blob.polarity)\n",
    "print(processed_tweets[13]._.blob.sentiment_assessments.assessments)"
   ]
  },
  {
   "cell_type": "markdown",
   "metadata": {},
   "source": [
    "### Get a better look at the used components of the spaCy pipeline"
   ]
  },
  {
   "cell_type": "code",
   "execution_count": 9,
   "metadata": {
    "colab": {
     "base_uri": "https://localhost:8080/"
    },
    "id": "xzq2vJ9cmEJc",
    "outputId": "e0ae8cdf-3bd6-4737-b38d-3090d275f3ae"
   },
   "outputs": [
    {
     "data": {
      "text/plain": [
       "[('tok2vec', <spacy.pipeline.tok2vec.Tok2Vec at 0x7fb3f391bc20>),\n",
       " ('tagger', <spacy.pipeline.tagger.Tagger at 0x7fb3f0b4a4a0>),\n",
       " ('parser', <spacy.pipeline.dep_parser.DependencyParser at 0x7fb3f10b6820>),\n",
       " ('senter', <spacy.pipeline.senter.SentenceRecognizer at 0x7fb3f0b5b900>),\n",
       " ('attribute_ruler',\n",
       "  <spacy.pipeline.attributeruler.AttributeRuler at 0x7fb3f103c340>),\n",
       " ('lemmatizer',\n",
       "  <spacy.lang.en.lemmatizer.EnglishLemmatizer at 0x7fb3f10460c0>),\n",
       " ('ner', <spacy.pipeline.ner.EntityRecognizer at 0x7fb3f0f2ec40>),\n",
       " ('spacytextblob',\n",
       "  <spacytextblob.spacytextblob.SpacyTextBlob at 0x7fb3f301ad30>)]"
      ]
     },
     "execution_count": 9,
     "metadata": {},
     "output_type": "execute_result"
    }
   ],
   "source": [
    "nlp.component_names\n",
    "nlp.components"
   ]
  },
  {
   "cell_type": "code",
   "execution_count": 10,
   "metadata": {
    "colab": {
     "base_uri": "https://localhost:8080/"
    },
    "id": "JucoYKaLV2V_",
    "outputId": "4f52e176-b0a5-49b2-a189-6232c0dfff49"
   },
   "outputs": [
    {
     "name": "stdout",
     "output_type": "stream",
     "text": [
      "Honestly, stray's only good at audiovisuals. Apart from that it's not a good GAME.\n",
      "Sentiment(polarity=0.10999999999999996, subjectivity=0.7)\n",
      "Stray has been a great experience so far! Really enjoying the game and looking forward to seeing the end of story. \n",
      "Sentiment(polarity=0.25625, subjectivity=0.6875)\n"
     ]
    }
   ],
   "source": [
    "print(processed_tweets[13])\n",
    "print(processed_tweets[13]._.blob.sentiment)\n",
    "\n",
    "print(processed_tweets[61])\n",
    "print(processed_tweets[61]._.blob.sentiment)"
   ]
  },
  {
   "cell_type": "markdown",
   "metadata": {},
   "source": [
    "### Visualise computed dependency between words in 1 tweet"
   ]
  },
  {
   "cell_type": "code",
   "execution_count": 11,
   "metadata": {
    "colab": {
     "base_uri": "https://localhost:8080/",
     "height": 673
    },
    "id": "14vwOhaVsEP0",
    "outputId": "d35f836d-eead-4c63-f070-cd239383c50a"
   },
   "outputs": [
    {
     "data": {
      "text/html": [
       "<span class=\"tex2jax_ignore\"><svg xmlns=\"http://www.w3.org/2000/svg\" xmlns:xlink=\"http://www.w3.org/1999/xlink\" xml:lang=\"en\" id=\"27ca5c3da99c4be6a8fd0110c229e7ae-0\" class=\"displacy\" width=\"2850\" height=\"487.0\" direction=\"ltr\" style=\"max-width: none; height: 487.0px; color: #000000; background: #ffffff; font-family: Arial; direction: ltr\">\n",
       "<text class=\"displacy-token\" fill=\"currentColor\" text-anchor=\"middle\" y=\"397.0\">\n",
       "    <tspan class=\"displacy-word\" fill=\"currentColor\" x=\"50\">Honestly,</tspan>\n",
       "    <tspan class=\"displacy-tag\" dy=\"2em\" fill=\"currentColor\" x=\"50\">ADV</tspan>\n",
       "</text>\n",
       "\n",
       "<text class=\"displacy-token\" fill=\"currentColor\" text-anchor=\"middle\" y=\"397.0\">\n",
       "    <tspan class=\"displacy-word\" fill=\"currentColor\" x=\"225\">stray</tspan>\n",
       "    <tspan class=\"displacy-tag\" dy=\"2em\" fill=\"currentColor\" x=\"225\">VERB</tspan>\n",
       "</text>\n",
       "\n",
       "<text class=\"displacy-token\" fill=\"currentColor\" text-anchor=\"middle\" y=\"397.0\">\n",
       "    <tspan class=\"displacy-word\" fill=\"currentColor\" x=\"400\">'s</tspan>\n",
       "    <tspan class=\"displacy-tag\" dy=\"2em\" fill=\"currentColor\" x=\"400\">AUX</tspan>\n",
       "</text>\n",
       "\n",
       "<text class=\"displacy-token\" fill=\"currentColor\" text-anchor=\"middle\" y=\"397.0\">\n",
       "    <tspan class=\"displacy-word\" fill=\"currentColor\" x=\"575\">only</tspan>\n",
       "    <tspan class=\"displacy-tag\" dy=\"2em\" fill=\"currentColor\" x=\"575\">ADV</tspan>\n",
       "</text>\n",
       "\n",
       "<text class=\"displacy-token\" fill=\"currentColor\" text-anchor=\"middle\" y=\"397.0\">\n",
       "    <tspan class=\"displacy-word\" fill=\"currentColor\" x=\"750\">good</tspan>\n",
       "    <tspan class=\"displacy-tag\" dy=\"2em\" fill=\"currentColor\" x=\"750\">ADJ</tspan>\n",
       "</text>\n",
       "\n",
       "<text class=\"displacy-token\" fill=\"currentColor\" text-anchor=\"middle\" y=\"397.0\">\n",
       "    <tspan class=\"displacy-word\" fill=\"currentColor\" x=\"925\">at</tspan>\n",
       "    <tspan class=\"displacy-tag\" dy=\"2em\" fill=\"currentColor\" x=\"925\">ADP</tspan>\n",
       "</text>\n",
       "\n",
       "<text class=\"displacy-token\" fill=\"currentColor\" text-anchor=\"middle\" y=\"397.0\">\n",
       "    <tspan class=\"displacy-word\" fill=\"currentColor\" x=\"1100\">audiovisuals.</tspan>\n",
       "    <tspan class=\"displacy-tag\" dy=\"2em\" fill=\"currentColor\" x=\"1100\">NOUN</tspan>\n",
       "</text>\n",
       "\n",
       "<text class=\"displacy-token\" fill=\"currentColor\" text-anchor=\"middle\" y=\"397.0\">\n",
       "    <tspan class=\"displacy-word\" fill=\"currentColor\" x=\"1275\">Apart</tspan>\n",
       "    <tspan class=\"displacy-tag\" dy=\"2em\" fill=\"currentColor\" x=\"1275\">ADV</tspan>\n",
       "</text>\n",
       "\n",
       "<text class=\"displacy-token\" fill=\"currentColor\" text-anchor=\"middle\" y=\"397.0\">\n",
       "    <tspan class=\"displacy-word\" fill=\"currentColor\" x=\"1450\">from</tspan>\n",
       "    <tspan class=\"displacy-tag\" dy=\"2em\" fill=\"currentColor\" x=\"1450\">ADP</tspan>\n",
       "</text>\n",
       "\n",
       "<text class=\"displacy-token\" fill=\"currentColor\" text-anchor=\"middle\" y=\"397.0\">\n",
       "    <tspan class=\"displacy-word\" fill=\"currentColor\" x=\"1625\">that</tspan>\n",
       "    <tspan class=\"displacy-tag\" dy=\"2em\" fill=\"currentColor\" x=\"1625\">DET</tspan>\n",
       "</text>\n",
       "\n",
       "<text class=\"displacy-token\" fill=\"currentColor\" text-anchor=\"middle\" y=\"397.0\">\n",
       "    <tspan class=\"displacy-word\" fill=\"currentColor\" x=\"1800\">it</tspan>\n",
       "    <tspan class=\"displacy-tag\" dy=\"2em\" fill=\"currentColor\" x=\"1800\">PRON</tspan>\n",
       "</text>\n",
       "\n",
       "<text class=\"displacy-token\" fill=\"currentColor\" text-anchor=\"middle\" y=\"397.0\">\n",
       "    <tspan class=\"displacy-word\" fill=\"currentColor\" x=\"1975\">'s</tspan>\n",
       "    <tspan class=\"displacy-tag\" dy=\"2em\" fill=\"currentColor\" x=\"1975\">AUX</tspan>\n",
       "</text>\n",
       "\n",
       "<text class=\"displacy-token\" fill=\"currentColor\" text-anchor=\"middle\" y=\"397.0\">\n",
       "    <tspan class=\"displacy-word\" fill=\"currentColor\" x=\"2150\">not</tspan>\n",
       "    <tspan class=\"displacy-tag\" dy=\"2em\" fill=\"currentColor\" x=\"2150\">PART</tspan>\n",
       "</text>\n",
       "\n",
       "<text class=\"displacy-token\" fill=\"currentColor\" text-anchor=\"middle\" y=\"397.0\">\n",
       "    <tspan class=\"displacy-word\" fill=\"currentColor\" x=\"2325\">a</tspan>\n",
       "    <tspan class=\"displacy-tag\" dy=\"2em\" fill=\"currentColor\" x=\"2325\">DET</tspan>\n",
       "</text>\n",
       "\n",
       "<text class=\"displacy-token\" fill=\"currentColor\" text-anchor=\"middle\" y=\"397.0\">\n",
       "    <tspan class=\"displacy-word\" fill=\"currentColor\" x=\"2500\">good</tspan>\n",
       "    <tspan class=\"displacy-tag\" dy=\"2em\" fill=\"currentColor\" x=\"2500\">ADJ</tspan>\n",
       "</text>\n",
       "\n",
       "<text class=\"displacy-token\" fill=\"currentColor\" text-anchor=\"middle\" y=\"397.0\">\n",
       "    <tspan class=\"displacy-word\" fill=\"currentColor\" x=\"2675\">GAME.</tspan>\n",
       "    <tspan class=\"displacy-tag\" dy=\"2em\" fill=\"currentColor\" x=\"2675\">NOUN</tspan>\n",
       "</text>\n",
       "\n",
       "<g class=\"displacy-arrow\">\n",
       "    <path class=\"displacy-arc\" id=\"arrow-27ca5c3da99c4be6a8fd0110c229e7ae-0-0\" stroke-width=\"2px\" d=\"M70,352.0 C70,177.0 390.0,177.0 390.0,352.0\" fill=\"none\" stroke=\"currentColor\"/>\n",
       "    <text dy=\"1.25em\" style=\"font-size: 0.8em; letter-spacing: 1px\">\n",
       "        <textPath xlink:href=\"#arrow-27ca5c3da99c4be6a8fd0110c229e7ae-0-0\" class=\"displacy-label\" startOffset=\"50%\" side=\"left\" fill=\"currentColor\" text-anchor=\"middle\">advmod</textPath>\n",
       "    </text>\n",
       "    <path class=\"displacy-arrowhead\" d=\"M70,354.0 L62,342.0 78,342.0\" fill=\"currentColor\"/>\n",
       "</g>\n",
       "\n",
       "<g class=\"displacy-arrow\">\n",
       "    <path class=\"displacy-arc\" id=\"arrow-27ca5c3da99c4be6a8fd0110c229e7ae-0-1\" stroke-width=\"2px\" d=\"M245,352.0 C245,264.5 385.0,264.5 385.0,352.0\" fill=\"none\" stroke=\"currentColor\"/>\n",
       "    <text dy=\"1.25em\" style=\"font-size: 0.8em; letter-spacing: 1px\">\n",
       "        <textPath xlink:href=\"#arrow-27ca5c3da99c4be6a8fd0110c229e7ae-0-1\" class=\"displacy-label\" startOffset=\"50%\" side=\"left\" fill=\"currentColor\" text-anchor=\"middle\">csubj</textPath>\n",
       "    </text>\n",
       "    <path class=\"displacy-arrowhead\" d=\"M245,354.0 L237,342.0 253,342.0\" fill=\"currentColor\"/>\n",
       "</g>\n",
       "\n",
       "<g class=\"displacy-arrow\">\n",
       "    <path class=\"displacy-arc\" id=\"arrow-27ca5c3da99c4be6a8fd0110c229e7ae-0-2\" stroke-width=\"2px\" d=\"M595,352.0 C595,264.5 735.0,264.5 735.0,352.0\" fill=\"none\" stroke=\"currentColor\"/>\n",
       "    <text dy=\"1.25em\" style=\"font-size: 0.8em; letter-spacing: 1px\">\n",
       "        <textPath xlink:href=\"#arrow-27ca5c3da99c4be6a8fd0110c229e7ae-0-2\" class=\"displacy-label\" startOffset=\"50%\" side=\"left\" fill=\"currentColor\" text-anchor=\"middle\">advmod</textPath>\n",
       "    </text>\n",
       "    <path class=\"displacy-arrowhead\" d=\"M595,354.0 L587,342.0 603,342.0\" fill=\"currentColor\"/>\n",
       "</g>\n",
       "\n",
       "<g class=\"displacy-arrow\">\n",
       "    <path class=\"displacy-arc\" id=\"arrow-27ca5c3da99c4be6a8fd0110c229e7ae-0-3\" stroke-width=\"2px\" d=\"M420,352.0 C420,177.0 740.0,177.0 740.0,352.0\" fill=\"none\" stroke=\"currentColor\"/>\n",
       "    <text dy=\"1.25em\" style=\"font-size: 0.8em; letter-spacing: 1px\">\n",
       "        <textPath xlink:href=\"#arrow-27ca5c3da99c4be6a8fd0110c229e7ae-0-3\" class=\"displacy-label\" startOffset=\"50%\" side=\"left\" fill=\"currentColor\" text-anchor=\"middle\">acomp</textPath>\n",
       "    </text>\n",
       "    <path class=\"displacy-arrowhead\" d=\"M740.0,354.0 L748.0,342.0 732.0,342.0\" fill=\"currentColor\"/>\n",
       "</g>\n",
       "\n",
       "<g class=\"displacy-arrow\">\n",
       "    <path class=\"displacy-arc\" id=\"arrow-27ca5c3da99c4be6a8fd0110c229e7ae-0-4\" stroke-width=\"2px\" d=\"M420,352.0 C420,89.5 920.0,89.5 920.0,352.0\" fill=\"none\" stroke=\"currentColor\"/>\n",
       "    <text dy=\"1.25em\" style=\"font-size: 0.8em; letter-spacing: 1px\">\n",
       "        <textPath xlink:href=\"#arrow-27ca5c3da99c4be6a8fd0110c229e7ae-0-4\" class=\"displacy-label\" startOffset=\"50%\" side=\"left\" fill=\"currentColor\" text-anchor=\"middle\">prep</textPath>\n",
       "    </text>\n",
       "    <path class=\"displacy-arrowhead\" d=\"M920.0,354.0 L928.0,342.0 912.0,342.0\" fill=\"currentColor\"/>\n",
       "</g>\n",
       "\n",
       "<g class=\"displacy-arrow\">\n",
       "    <path class=\"displacy-arc\" id=\"arrow-27ca5c3da99c4be6a8fd0110c229e7ae-0-5\" stroke-width=\"2px\" d=\"M945,352.0 C945,264.5 1085.0,264.5 1085.0,352.0\" fill=\"none\" stroke=\"currentColor\"/>\n",
       "    <text dy=\"1.25em\" style=\"font-size: 0.8em; letter-spacing: 1px\">\n",
       "        <textPath xlink:href=\"#arrow-27ca5c3da99c4be6a8fd0110c229e7ae-0-5\" class=\"displacy-label\" startOffset=\"50%\" side=\"left\" fill=\"currentColor\" text-anchor=\"middle\">pobj</textPath>\n",
       "    </text>\n",
       "    <path class=\"displacy-arrowhead\" d=\"M1085.0,354.0 L1093.0,342.0 1077.0,342.0\" fill=\"currentColor\"/>\n",
       "</g>\n",
       "\n",
       "<g class=\"displacy-arrow\">\n",
       "    <path class=\"displacy-arc\" id=\"arrow-27ca5c3da99c4be6a8fd0110c229e7ae-0-6\" stroke-width=\"2px\" d=\"M1295,352.0 C1295,2.0 1975.0,2.0 1975.0,352.0\" fill=\"none\" stroke=\"currentColor\"/>\n",
       "    <text dy=\"1.25em\" style=\"font-size: 0.8em; letter-spacing: 1px\">\n",
       "        <textPath xlink:href=\"#arrow-27ca5c3da99c4be6a8fd0110c229e7ae-0-6\" class=\"displacy-label\" startOffset=\"50%\" side=\"left\" fill=\"currentColor\" text-anchor=\"middle\">advmod</textPath>\n",
       "    </text>\n",
       "    <path class=\"displacy-arrowhead\" d=\"M1295,354.0 L1287,342.0 1303,342.0\" fill=\"currentColor\"/>\n",
       "</g>\n",
       "\n",
       "<g class=\"displacy-arrow\">\n",
       "    <path class=\"displacy-arc\" id=\"arrow-27ca5c3da99c4be6a8fd0110c229e7ae-0-7\" stroke-width=\"2px\" d=\"M1295,352.0 C1295,264.5 1435.0,264.5 1435.0,352.0\" fill=\"none\" stroke=\"currentColor\"/>\n",
       "    <text dy=\"1.25em\" style=\"font-size: 0.8em; letter-spacing: 1px\">\n",
       "        <textPath xlink:href=\"#arrow-27ca5c3da99c4be6a8fd0110c229e7ae-0-7\" class=\"displacy-label\" startOffset=\"50%\" side=\"left\" fill=\"currentColor\" text-anchor=\"middle\">prep</textPath>\n",
       "    </text>\n",
       "    <path class=\"displacy-arrowhead\" d=\"M1435.0,354.0 L1443.0,342.0 1427.0,342.0\" fill=\"currentColor\"/>\n",
       "</g>\n",
       "\n",
       "<g class=\"displacy-arrow\">\n",
       "    <path class=\"displacy-arc\" id=\"arrow-27ca5c3da99c4be6a8fd0110c229e7ae-0-8\" stroke-width=\"2px\" d=\"M1470,352.0 C1470,264.5 1610.0,264.5 1610.0,352.0\" fill=\"none\" stroke=\"currentColor\"/>\n",
       "    <text dy=\"1.25em\" style=\"font-size: 0.8em; letter-spacing: 1px\">\n",
       "        <textPath xlink:href=\"#arrow-27ca5c3da99c4be6a8fd0110c229e7ae-0-8\" class=\"displacy-label\" startOffset=\"50%\" side=\"left\" fill=\"currentColor\" text-anchor=\"middle\">pobj</textPath>\n",
       "    </text>\n",
       "    <path class=\"displacy-arrowhead\" d=\"M1610.0,354.0 L1618.0,342.0 1602.0,342.0\" fill=\"currentColor\"/>\n",
       "</g>\n",
       "\n",
       "<g class=\"displacy-arrow\">\n",
       "    <path class=\"displacy-arc\" id=\"arrow-27ca5c3da99c4be6a8fd0110c229e7ae-0-9\" stroke-width=\"2px\" d=\"M1820,352.0 C1820,264.5 1960.0,264.5 1960.0,352.0\" fill=\"none\" stroke=\"currentColor\"/>\n",
       "    <text dy=\"1.25em\" style=\"font-size: 0.8em; letter-spacing: 1px\">\n",
       "        <textPath xlink:href=\"#arrow-27ca5c3da99c4be6a8fd0110c229e7ae-0-9\" class=\"displacy-label\" startOffset=\"50%\" side=\"left\" fill=\"currentColor\" text-anchor=\"middle\">nsubj</textPath>\n",
       "    </text>\n",
       "    <path class=\"displacy-arrowhead\" d=\"M1820,354.0 L1812,342.0 1828,342.0\" fill=\"currentColor\"/>\n",
       "</g>\n",
       "\n",
       "<g class=\"displacy-arrow\">\n",
       "    <path class=\"displacy-arc\" id=\"arrow-27ca5c3da99c4be6a8fd0110c229e7ae-0-10\" stroke-width=\"2px\" d=\"M1995,352.0 C1995,264.5 2135.0,264.5 2135.0,352.0\" fill=\"none\" stroke=\"currentColor\"/>\n",
       "    <text dy=\"1.25em\" style=\"font-size: 0.8em; letter-spacing: 1px\">\n",
       "        <textPath xlink:href=\"#arrow-27ca5c3da99c4be6a8fd0110c229e7ae-0-10\" class=\"displacy-label\" startOffset=\"50%\" side=\"left\" fill=\"currentColor\" text-anchor=\"middle\">neg</textPath>\n",
       "    </text>\n",
       "    <path class=\"displacy-arrowhead\" d=\"M2135.0,354.0 L2143.0,342.0 2127.0,342.0\" fill=\"currentColor\"/>\n",
       "</g>\n",
       "\n",
       "<g class=\"displacy-arrow\">\n",
       "    <path class=\"displacy-arc\" id=\"arrow-27ca5c3da99c4be6a8fd0110c229e7ae-0-11\" stroke-width=\"2px\" d=\"M2345,352.0 C2345,177.0 2665.0,177.0 2665.0,352.0\" fill=\"none\" stroke=\"currentColor\"/>\n",
       "    <text dy=\"1.25em\" style=\"font-size: 0.8em; letter-spacing: 1px\">\n",
       "        <textPath xlink:href=\"#arrow-27ca5c3da99c4be6a8fd0110c229e7ae-0-11\" class=\"displacy-label\" startOffset=\"50%\" side=\"left\" fill=\"currentColor\" text-anchor=\"middle\">det</textPath>\n",
       "    </text>\n",
       "    <path class=\"displacy-arrowhead\" d=\"M2345,354.0 L2337,342.0 2353,342.0\" fill=\"currentColor\"/>\n",
       "</g>\n",
       "\n",
       "<g class=\"displacy-arrow\">\n",
       "    <path class=\"displacy-arc\" id=\"arrow-27ca5c3da99c4be6a8fd0110c229e7ae-0-12\" stroke-width=\"2px\" d=\"M2520,352.0 C2520,264.5 2660.0,264.5 2660.0,352.0\" fill=\"none\" stroke=\"currentColor\"/>\n",
       "    <text dy=\"1.25em\" style=\"font-size: 0.8em; letter-spacing: 1px\">\n",
       "        <textPath xlink:href=\"#arrow-27ca5c3da99c4be6a8fd0110c229e7ae-0-12\" class=\"displacy-label\" startOffset=\"50%\" side=\"left\" fill=\"currentColor\" text-anchor=\"middle\">amod</textPath>\n",
       "    </text>\n",
       "    <path class=\"displacy-arrowhead\" d=\"M2520,354.0 L2512,342.0 2528,342.0\" fill=\"currentColor\"/>\n",
       "</g>\n",
       "\n",
       "<g class=\"displacy-arrow\">\n",
       "    <path class=\"displacy-arc\" id=\"arrow-27ca5c3da99c4be6a8fd0110c229e7ae-0-13\" stroke-width=\"2px\" d=\"M1995,352.0 C1995,2.0 2675.0,2.0 2675.0,352.0\" fill=\"none\" stroke=\"currentColor\"/>\n",
       "    <text dy=\"1.25em\" style=\"font-size: 0.8em; letter-spacing: 1px\">\n",
       "        <textPath xlink:href=\"#arrow-27ca5c3da99c4be6a8fd0110c229e7ae-0-13\" class=\"displacy-label\" startOffset=\"50%\" side=\"left\" fill=\"currentColor\" text-anchor=\"middle\">attr</textPath>\n",
       "    </text>\n",
       "    <path class=\"displacy-arrowhead\" d=\"M2675.0,354.0 L2683.0,342.0 2667.0,342.0\" fill=\"currentColor\"/>\n",
       "</g>\n",
       "</svg></span>"
      ],
      "text/plain": [
       "<IPython.core.display.HTML object>"
      ]
     },
     "metadata": {},
     "output_type": "display_data"
    }
   ],
   "source": [
    "from spacy import displacy\n",
    "displacy.render(processed_tweets[13], style=\"dep\")"
   ]
  },
  {
   "cell_type": "code",
   "execution_count": 12,
   "metadata": {
    "id": "rgTycWWSl_rp"
   },
   "outputs": [
    {
     "name": "stdout",
     "output_type": "stream",
     "text": [
      "[WordList(['Platinum', 'no', '27']), WordList(['no', '27', 'goes']), WordList(['27', 'goes', 'to']), WordList(['goes', 'to', 'Stray']), WordList(['to', 'Stray', '🐈']), WordList(['Stray', '🐈', 'what']), WordList(['🐈', 'what', 'a']), WordList(['what', 'a', 'wonderful']), WordList(['a', 'wonderful', 'game']), WordList(['wonderful', 'game', 'all']), WordList(['game', 'all', 'around']), WordList(['all', 'around', 'absolutely']), WordList(['around', 'absolutely', 'adored']), WordList(['absolutely', 'adored', 'it']), WordList(['adored', 'it', '♥️']), WordList(['it', '♥️', 'kept']), WordList(['♥️', 'kept', 'the']), WordList(['kept', 'the', 'speedrunning']), WordList(['the', 'speedrunning', 'trophy']), WordList(['speedrunning', 'trophy', 'for']), WordList(['trophy', 'for', 'last']), WordList(['for', 'last', '😄'])]\n",
      "[WordList(['Now', 'you', 'can']), WordList(['you', 'can', 'play']), WordList(['can', 'play', 'Stray']), WordList(['play', 'Stray', 'from']), WordList(['Stray', 'from', 'the']), WordList(['from', 'the', 'cat']), WordList(['the', 'cat', \"'s\"]), WordList(['cat', \"'s\", 'purr-spective'])]\n"
     ]
    }
   ],
   "source": [
    "# Create n-grams from processed tweets\n",
    "for tweet in processed_tweets[0:2]:\n",
    "  print(tweet._.blob.ngrams())"
   ]
  },
  {
   "cell_type": "markdown",
   "metadata": {},
   "source": [
    "# Supervised Sentiment Analysis with TextBlob"
   ]
  },
  {
   "cell_type": "markdown",
   "metadata": {},
   "source": [
    "We define a function that cleans our dataset's 'text' column."
   ]
  },
  {
   "cell_type": "code",
   "execution_count": 14,
   "metadata": {
    "id": "6qin0dTRgAbv"
   },
   "outputs": [],
   "source": [
    "tweets_content_list = pd.read_csv('datasets/stray-game-14-08.csv')['text'].tolist()\n",
    "\n",
    "# Pre-processing: removing links and web-specific content that is not needed\n",
    "def clean_data(tweets):\n",
    "  simple_url_re = re.compile(r'''https:\\/\\/([^\\s]+)''')\n",
    "  twitter_url_re = re.compile(r'''https:\\/\\/t.co\\/[A-Za-z0-9_]+''')\n",
    "  username_prefix_re = re.compile(r'''(\\@)\\w{1,15} ?''')\n",
    "  # hashtag_re = re.compile(r'''(\\#)[A-Za-z0-9_]+''')\n",
    "\n",
    "  new_tweets = []\n",
    "  new_tweet = ''\n",
    "\n",
    "  for tweet in tweets:\n",
    "    tweet = re.sub(simple_url_re, \"\", tweet)\n",
    "    tweet = re.sub(twitter_url_re, \"\", tweet)\n",
    "    tweet = re.sub(username_prefix_re, \"\", tweet)\n",
    "    # tweet = re.sub(hashtag_re, \"\", tweet)\n",
    "    new_tweets.append(tweet)\n",
    "  return new_tweets\n",
    "\n",
    "tweets_content_list = clean_data(tweets_content_list)"
   ]
  },
  {
   "cell_type": "markdown",
   "metadata": {},
   "source": [
    "## Training our own Naive Bayes classifier"
   ]
  },
  {
   "cell_type": "code",
   "execution_count": 15,
   "metadata": {
    "colab": {
     "base_uri": "https://localhost:8080/"
    },
    "id": "UcFsL4nGO-n7",
    "outputId": "f6219017-d47c-45a3-b8ca-bd89ef8261b0"
   },
   "outputs": [
    {
     "name": "stdout",
     "output_type": "stream",
     "text": [
      "Tweet: Honestly, stray's only good at audiovisuals. Apart from that it's not a good GAME. - Sentiment: neg\n",
      "Tweet: Platinum no. 27 goes to Stray 🐈 what a wonderful game all around, absolutely adored it ♥️ kept the speedrunning trophy for last 😄 - Sentiment: pos\n",
      "Tweet: Now you can play Stray from the cat's purr-spective: - Sentiment: pos\n",
      "Tweet: stray is a very difficult game because the moment the kitty shows any sign of being distressed or hurt i feel like i deserve to be thrown under a moving vehicle - Sentiment: pos\n"
     ]
    }
   ],
   "source": [
    "processed_tweets = []\n",
    "naivebayes_analyzer = NaiveBayesAnalyzer() # Trained on movie reviews\n",
    "\n",
    "# Our own trained classifier\n",
    "training_data = [\n",
    "    ('This game is amazing!', 'pos'),\n",
    "    ('Stray is cute', 'pos'),\n",
    "    ('It\\'s the game of the year!', 'pos'),\n",
    "    ('I love cats', 'pos'),\n",
    "    ('It\\'s not a good game.', 'neg'),\n",
    "    ('I don\\'t like cats', 'neg'),\n",
    "    ('It\\'s really not that good', 'neg'),\n",
    "]\n",
    "\n",
    "naivebayes_classifier = NaiveBayesClassifier(training_data)\n",
    "\n",
    "# Test our classifier\n",
    "def test_classifier(tweet):\n",
    "  sentiment = naivebayes_classifier.classify(tweet)\n",
    "  probability_distribution = naivebayes_classifier.prob_classify(tweet)\n",
    "\n",
    "  positive_probability = probability_distribution.prob('pos')\n",
    "  negative_probability = probability_distribution.prob('neg')\n",
    "  if (positive_probability > 0.4 and negative_probability > 0.4):\n",
    "    sentiment = 'neutral'\n",
    "\n",
    "  return sentiment\n",
    "\n",
    "tweets = [\n",
    "    \"Honestly, stray's only good at audiovisuals. Apart from that it's not a good GAME.\",\n",
    "    \"Platinum no. 27 goes to Stray 🐈 what a wonderful game all around, absolutely adored it ♥️ kept the speedrunning trophy for last 😄\",\n",
    "    \"Now you can play Stray from the cat's purr-spective:\",\n",
    "    \"stray is a very difficult game because the moment the kitty shows any sign of being distressed or hurt i feel like i deserve to be thrown under a moving vehicle\"]\n",
    "\n",
    "for tweet in tweets:\n",
    "    print(f'Tweet: {tweet} - Sentiment: {test_classifier(tweet)}')"
   ]
  },
  {
   "cell_type": "markdown",
   "metadata": {},
   "source": [
    "## Using TextBlob's pre-trained Naive Bayes classifier"
   ]
  },
  {
   "cell_type": "code",
   "execution_count": 16,
   "metadata": {
    "colab": {
     "base_uri": "https://localhost:8080/",
     "height": 330
    },
    "id": "2M7dugLOdNW5",
    "outputId": "08b6ae9c-6e2b-4f7f-a52a-64afd91e9dde"
   },
   "outputs": [
    {
     "data": {
      "text/html": [
       "<div>\n",
       "<style scoped>\n",
       "    .dataframe tbody tr th:only-of-type {\n",
       "        vertical-align: middle;\n",
       "    }\n",
       "\n",
       "    .dataframe tbody tr th {\n",
       "        vertical-align: top;\n",
       "    }\n",
       "\n",
       "    .dataframe thead th {\n",
       "        text-align: right;\n",
       "    }\n",
       "</style>\n",
       "<table border=\"1\" class=\"dataframe\">\n",
       "  <thead>\n",
       "    <tr style=\"text-align: right;\">\n",
       "      <th></th>\n",
       "      <th>text</th>\n",
       "      <th>sentiment</th>\n",
       "    </tr>\n",
       "  </thead>\n",
       "  <tbody>\n",
       "    <tr>\n",
       "      <th>0</th>\n",
       "      <td>Platinum no. 27 goes to Stray 🐈 what a wonderful game all around, absolutely adored it ♥️ kept the speedrunning trophy for last 😄</td>\n",
       "      <td>positive</td>\n",
       "    </tr>\n",
       "    <tr>\n",
       "      <th>1</th>\n",
       "      <td>Now you can play Stray from the cat's purr-spective:</td>\n",
       "      <td>neutral</td>\n",
       "    </tr>\n",
       "    <tr>\n",
       "      <th>2</th>\n",
       "      <td>stream schedule for this week (Aug 15th to 21st)  \\n\\nmore chill this week~ catching up with chat and more singing streams! Starting a new game this week \"stray\" as well! &amp;lt;3 \\n\\nHope to see you there! \\n\\n⊹  \\n⊹ Schedule by : \\n</td>\n",
       "      <td>positive</td>\n",
       "    </tr>\n",
       "    <tr>\n",
       "      <th>3</th>\n",
       "      <td>First Game: Alphabet Park Adventure (V-Smile) or Petz Catz 2 (Wii)\\nLast Game: Stray\\nBest Game: Stray, GTA V, and Red Dead Redemption 2\\nWorst Game: Fortnite (not my cup of tea)</td>\n",
       "      <td>negative</td>\n",
       "    </tr>\n",
       "    <tr>\n",
       "      <th>4</th>\n",
       "      <td>* honestly i recall seeing this game in development before stray came out but i agree</td>\n",
       "      <td>neutral</td>\n",
       "    </tr>\n",
       "  </tbody>\n",
       "</table>\n",
       "</div>"
      ],
      "text/plain": [
       "                                                                                                                                                                                                                                       text  \\\n",
       "0                                                                                                        Platinum no. 27 goes to Stray 🐈 what a wonderful game all around, absolutely adored it ♥️ kept the speedrunning trophy for last 😄    \n",
       "1                                                                                                                                                                                    Now you can play Stray from the cat's purr-spective:     \n",
       "2  stream schedule for this week (Aug 15th to 21st)  \\n\\nmore chill this week~ catching up with chat and more singing streams! Starting a new game this week \"stray\" as well! &lt;3 \\n\\nHope to see you there! \\n\\n⊹  \\n⊹ Schedule by : \\n    \n",
       "3                                                        First Game: Alphabet Park Adventure (V-Smile) or Petz Catz 2 (Wii)\\nLast Game: Stray\\nBest Game: Stray, GTA V, and Red Dead Redemption 2\\nWorst Game: Fortnite (not my cup of tea)   \n",
       "4                                                                                                                                                     * honestly i recall seeing this game in development before stray came out but i agree   \n",
       "\n",
       "  sentiment  \n",
       "0  positive  \n",
       "1   neutral  \n",
       "2  positive  \n",
       "3  negative  \n",
       "4   neutral  "
      ]
     },
     "execution_count": 16,
     "metadata": {},
     "output_type": "execute_result"
    }
   ],
   "source": [
    "tweets = [\"Honestly, stray's only good at audiovisuals. Apart from that it's not a good GAME.\",\n",
    "          \"Platinum no. 27 goes to Stray 🐈 what a wonderful game all around, absolutely adored it ♥️ kept the speedrunning trophy for last 😄\",\n",
    "          \"Now you can play Stray from the cat's purr-spective:\",\n",
    "          \"stray is a very difficult game because the moment the kitty shows any sign of being distressed or hurt i feel like i deserve to be thrown under a moving vehicle\"]\n",
    "\n",
    "# Create TextBlob objects from every tweet and save them in list\n",
    "def classify_tweets(tweets):\n",
    "  textblobs = []\n",
    "  for tweet in tweets:\n",
    "    blob = TextBlob(tweet, analyzer=naivebayes_analyzer)\n",
    "    textblobs.append(blob)\n",
    "    \n",
    "  return textblobs\n",
    "\n",
    "processed_tweets = []\n",
    "naivebayes_analyzer = NaiveBayesAnalyzer() # Trained on movie reviews\n",
    "\n",
    "# Classify with neutral sentiment and create dataframe\n",
    "textb_sentiment_df = pd.DataFrame()\n",
    "\n",
    "textblobs = []\n",
    "for tweet in tweets_content_list:\n",
    "  blob = TextBlob(tweet, analyzer=naivebayes_analyzer)\n",
    "  textblobs.append(blob)\n",
    "  sentiment = blob.sentiment.classification\n",
    "\n",
    "  # Add 'neutral' label to classification\n",
    "  if (blob.sentiment.p_pos > 0.4 and blob.sentiment.p_neg > 0.4):\n",
    "    sentiment = 'neutral'\n",
    "  elif blob.sentiment.classification == 'pos':\n",
    "    sentiment = 'positive'\n",
    "  elif blob.sentiment.classification == 'neg':\n",
    "    sentiment = 'negative'\n",
    "  \n",
    "  # Add to dataframe\n",
    "  textb_sentiment_df = textb_sentiment_df.append(pd.DataFrame({\n",
    "      'text': [tweet],\n",
    "      'sentiment': [sentiment]\n",
    "  }))\n",
    "\n",
    "  textb_sentiment_df = textb_sentiment_df.reset_index(drop=True)\n",
    "\n",
    "pd.set_option('display.max_colwidth', None)\n",
    "textb_sentiment_df.head()\n",
    "  "
   ]
  },
  {
   "cell_type": "markdown",
   "metadata": {},
   "source": [
    "## Using TextBlob's pre-trained Naive Bayes classifier wihtout 'neutral' sentiment"
   ]
  },
  {
   "cell_type": "code",
   "execution_count": null,
   "metadata": {
    "colab": {
     "base_uri": "https://localhost:8080/",
     "height": 330
    },
    "id": "6vjyDRfHwQje",
    "outputId": "ef8a0127-f5cb-41f8-937b-da1f686cc849"
   },
   "outputs": [],
   "source": [
    "tweets = [\"Honestly, stray's only good at audiovisuals. Apart from that it's not a good GAME.\",\n",
    "          \"Platinum no. 27 goes to Stray 🐈 what a wonderful game all around, absolutely adored it ♥️ kept the speedrunning trophy for last 😄\",\n",
    "          \"Now you can play Stray from the cat's purr-spective:\",\n",
    "          \"stray is a very difficult game because the moment the kitty shows any sign of being distressed or hurt i feel like i deserve to be thrown under a moving vehicle\"]\n",
    "\n",
    "# Create TextBlob objects from every tweet and save them in list\n",
    "def classify_tweets(tweets):\n",
    "  textblobs = []\n",
    "  for tweet in tweets:\n",
    "    blob = TextBlob(tweet, analyzer=naivebayes_analyzer)\n",
    "    textblobs.append(blob)\n",
    "\n",
    "  return textblobs\n",
    "\n",
    "processed_tweets = []\n",
    "naivebayes_analyzer = NaiveBayesAnalyzer() # Trained on movie reviews\n",
    "\n",
    "# Classify with neutral sentiment and create dataframe\n",
    "textb_sentiment_df = pd.DataFrame()\n",
    "\n",
    "textblobs = []\n",
    "for tweet in tweets_content_list:\n",
    "  blob = TextBlob(tweet, analyzer=naivebayes_analyzer)\n",
    "  textblobs.append(blob)\n",
    "  sentiment = blob.sentiment.classification\n",
    "\n",
    "  # Pure binary classification\n",
    "  if blob.sentiment.classification == 'pos':\n",
    "    sentiment = 'positive'\n",
    "  elif blob.sentiment.classification == 'neg':\n",
    "    sentiment = 'negative'\n",
    "  \n",
    "  # Add to dataframe\n",
    "  textb_sentiment_df = textb_sentiment_df.append(pd.DataFrame({\n",
    "      'text': [tweet],\n",
    "      'sentiment': [sentiment]\n",
    "  }))\n",
    "\n",
    "  textb_sentiment_df = textb_sentiment_df.reset_index(drop=True)\n",
    "\n",
    "pd.set_option('display.max_colwidth', None)\n",
    "textb_sentiment_df.head()\n",
    "  "
   ]
  },
  {
   "cell_type": "code",
   "execution_count": 17,
   "metadata": {
    "id": "4JmXZd8pfLV7"
   },
   "outputs": [],
   "source": [
    "textb_sentiment_df.to_csv('results/stray-game-sentiments-textblob2-no-neutral.csv')"
   ]
  },
  {
   "cell_type": "markdown",
   "metadata": {
    "id": "nZw-3QJtx61r"
   },
   "source": [
    "# Aspect-based Sentiment Analysis"
   ]
  },
  {
   "cell_type": "code",
   "execution_count": 18,
   "metadata": {
    "colab": {
     "base_uri": "https://localhost:8080/"
    },
    "id": "MyGZeAiaxpw2",
    "outputId": "a5234741-28a8-437f-9c70-1dd620fea8f7"
   },
   "outputs": [
    {
     "name": "stdout",
     "output_type": "stream",
     "text": [
      "Honestly, stray's only good at audiovisuals. Apart from that it's not a good GAME.\n",
      "NN\n",
      "stray\n"
     ]
    }
   ],
   "source": [
    "processed_tweets = []\n",
    "naivebayes_analyzer = NaiveBayesAnalyzer() # Trained on movie reviews\n",
    "\n",
    "def classify_tweets(tweets):\n",
    "  textblobs = []\n",
    "  for tweet in tweets:\n",
    "    blob = TextBlob(tweet, analyzer=naivebayes_analyzer)\n",
    "    textblobs.append(blob)\n",
    "\n",
    "  return textblobs\n",
    "\n",
    "processed_tweets = classify_tweets(tweets_content_list)\n",
    "\n",
    "blob = processed_tweets[13]\n",
    "\n",
    "print(blob)\n",
    "\n",
    "nouns = []\n",
    "for word, tag in blob.tags:\n",
    "  if tag == 'NN':\n",
    "    print(tag)\n",
    "    print(word)\n",
    "    nouns.append(word.lemmatize())"
   ]
  },
  {
   "cell_type": "code",
   "execution_count": 19,
   "metadata": {
    "colab": {
     "base_uri": "https://localhost:8080/"
    },
    "id": "NvkiwbAHCeG8",
    "outputId": "33b25ae4-bd43-461b-a404-cebc8d298a91"
   },
   "outputs": [
    {
     "name": "stdout",
     "output_type": "stream",
     "text": [
      "0.20202020202020202\n",
      "neutral\n"
     ]
    }
   ],
   "source": [
    "processed_tweets = []\n",
    "naivebayes_analyzer = NaiveBayesAnalyzer() # Trained on movie reviews\n",
    "\n",
    "# Classify tweets with neutral sentiment\n",
    "textblobs = []\n",
    "tweets_sents_pairs = []\n",
    "for tweet in tweets_content_list:\n",
    "  blob = TextBlob(tweet, analyzer=naivebayes_analyzer)\n",
    "  textblobs.append(blob)\n",
    "  sentiment = blob.sentiment.classification\n",
    "\n",
    "  # Pure binary classification\n",
    "  if blob.sentiment.classification == 'pos':\n",
    "    sentiment = 'positive'\n",
    "  elif blob.sentiment.classification == 'neg':\n",
    "    sentiment = 'negative'\n",
    "  \n",
    "  # Add to list of tweet-sentiment pairs\n",
    "  tweets_sents_pairs.append((tweet, sentiment))\n",
    "\n",
    "def get_general_sentiment_score(tweets_sents):\n",
    "  sentimentScore = 0\n",
    "  for pair in tweets_sents:\n",
    "    if pair[1] == 'positive':\n",
    "      sentimentScore += 1\n",
    "    elif pair[1] == 'negative':\n",
    "      sentimentScore -= 1\n",
    "      # Ignore 'neutral' tweets\n",
    "\n",
    "  return (sentimentScore/(len(tweets_sents)-1))\n",
    "\n",
    "def classify_general_sentiment(score):\n",
    "  if (score > -0.4 and score < 0.4):\n",
    "    sentiment = 'neutral'\n",
    "  elif score < -0.4:\n",
    "    sentiment = 'negative'\n",
    "  elif score > 0.4:\n",
    "    sentiment = 'positive'\n",
    "  \n",
    "  return sentiment\n",
    "\n",
    "avg_sentiment_score = get_general_sentiment_score(tweets_sents_pairs)\n",
    "print(avg_sentiment_score)\n",
    "general_sentiment = classify_general_sentiment(avg_sentiment_score)\n",
    "print(general_sentiment)"
   ]
  },
  {
   "cell_type": "markdown",
   "metadata": {},
   "source": [
    "### Remark\n",
    "Notice that the general sentiment would have been 'positive' had we not included a way to work with neutral sentiments, or reduced our tresholds from '0.4' to '0.2'."
   ]
  },
  {
   "cell_type": "markdown",
   "metadata": {},
   "source": [
    "# Another small example to illustrate a trained Naive Bayes classifier"
   ]
  },
  {
   "cell_type": "code",
   "execution_count": 20,
   "metadata": {
    "colab": {
     "base_uri": "https://localhost:8080/"
    },
    "id": "qb_-wSvMiV8G",
    "outputId": "753c3d45-0208-4206-9ab6-99c78ee2a0aa"
   },
   "outputs": [
    {
     "name": "stdout",
     "output_type": "stream",
     "text": [
      "Our Naive Bayes classifier\n",
      "Sentence: Italian food is not my cup of tea - Sentiment: neg\n",
      "Sentence: The food wasn't bad, but not amazing either. - Sentiment: pos\n",
      "Sentence: I love the desserts here! - Sentiment: pos\n",
      "Sentence: I'm not a big fan of the fries. They're so dry! - Sentiment: neg\n",
      "Sentence: I ❤️ pasta - Sentiment: pos\n"
     ]
    }
   ],
   "source": [
    "training_data = [\n",
    "    (\"This food is delicious!\", 'pos'),\n",
    "    (\"OMG! I ❤️ this food\", 'pos'),\n",
    "    (\"The creamy texture of the dessert.. WOW! Amazing.\", 'pos'),\n",
    "    (\"It's not bad at all.\", 'pos'),\n",
    "    (\"Pasta is my favorite!\", 'pos'),\n",
    "    (\"What a waste of ingredients...\", 'neg'),\n",
    "    (\"I don't really like the texture of pasta.\", 'neg'),\n",
    "    (\"It is not my cup of tea. \", 'neg'),\n",
    "]\n",
    "\n",
    "naivebayes_classifier = NaiveBayesClassifier(training_data)\n",
    "\n",
    "# Test our classifier\n",
    "def test_classifier(tweet):\n",
    "  sentiment = naivebayes_classifier.classify(tweet)\n",
    "  probability_distribution = naivebayes_classifier.prob_classify(tweet)\n",
    "\n",
    "  positive_probability = probability_distribution.prob('pos')\n",
    "  negative_probability = probability_distribution.prob('neg')\n",
    "  if (positive_probability > 0.4 and negative_probability > 0.4):\n",
    "    sentiment = 'neutral'\n",
    "\n",
    "  return sentiment\n",
    "\n",
    "\n",
    "test_sentences = [\n",
    "    \"Italian food is not my cup of tea\",\n",
    "    \"The food wasn't bad, but not amazing either.\",\n",
    "    \"I love the desserts here!\",\n",
    "    \"I'm not a big fan of the fries. They're so dry!\",\n",
    "    \"I ❤️ pasta\",    \n",
    "]\n",
    "\n",
    "print(\"Our Naive Bayes classifier\")\n",
    "for sentence in test_sentences:\n",
    "  sentiment = test_classifier(sentence)\n",
    "  print(f'Sentence: {sentence} - Sentiment: {sentiment}')"
   ]
  }
 ],
 "metadata": {
  "colab": {
   "collapsed_sections": [],
   "name": "SentimentAnalyse.ipynb",
   "provenance": []
  },
  "kernelspec": {
   "display_name": "Python3 - Python-env",
   "language": "python",
   "name": "ipython_python-env"
  },
  "language_info": {
   "codemirror_mode": {
    "name": "ipython",
    "version": 3
   },
   "file_extension": ".py",
   "mimetype": "text/x-python",
   "name": "python",
   "nbconvert_exporter": "python",
   "pygments_lexer": "ipython3",
   "version": "3.9.13"
  }
 },
 "nbformat": 4,
 "nbformat_minor": 4
}
